{
 "cells": [
  {
   "cell_type": "code",
   "execution_count": 4,
   "metadata": {},
   "outputs": [
    {
     "name": "stdout",
     "output_type": "stream",
     "text": [
      "10\n",
      "12\n",
      "14\n",
      "16\n",
      "18\n",
      "Apple\n",
      "Orange\n"
     ]
    }
   ],
   "source": [
    "# For Loop\n",
    "\n",
    "for x in range(10, 20, 2): # 0-9\n",
    "    print(x)\n",
    "\n",
    "fruits = ['Apple', 'Orange']\n",
    "for fruit in fruits:\n",
    "    print(fruit)"
   ]
  },
  {
   "cell_type": "code",
   "execution_count": null,
   "metadata": {},
   "outputs": [],
   "source": [
    "tarefas = range(100)\n",
    "array = [{\"nome\": \"Jose\", \"age\": 10},{\"nome\": \"Alberto\", \"age\": 90},{\"nome\": \"Wagner\", \"age\": 58},{\"nome\" :\"Jose\",\"age\":10}]\n",
    "array4 = [\"Atos\",\"Victor\",\"Victor\",\"Danilo\",\"Victor\"]\n",
    "import random\n",
    "from random import randint as r\n",
    "lista=[]\n",
    "    \n",
    "for x in range(3000000):\n",
    "    lista.append(r(0,5))\n",
    "    \n",
    "for idx, x in enumerate(lista):\n",
    "    for idx2, y in enumerate(lista):\n",
    "        if (lista[idx] == lista[idx2]) and (idx != idx2):\n",
    "            lista.pop(idx2)\n",
    "            \n",
    "print(lista)\n",
    "    "
   ]
  },
  {
   "cell_type": "code",
   "execution_count": 13,
   "metadata": {},
   "outputs": [
    {
     "name": "stdout",
     "output_type": "stream",
     "text": [
      "MG: Minas Gerais\n",
      "BA: Bahia\n"
     ]
    }
   ],
   "source": [
    "# For loop expandido\n",
    "states = {\n",
    "    'MG': 'Minas Gerais',\n",
    "    'BA': 'Bahia'\n",
    "}\n",
    "\n",
    "for key, value in states.items():\n",
    "    print('{}: {}'.format(key, value))"
   ]
  },
  {
   "cell_type": "code",
   "execution_count": 9,
   "metadata": {},
   "outputs": [
    {
     "ename": "NameError",
     "evalue": "name 'validacao' is not defined",
     "output_type": "error",
     "traceback": [
      "\u001b[1;31m\u001b[0m",
      "\u001b[1;31mNameError\u001b[0mTraceback (most recent call last)",
      "\u001b[1;32m<ipython-input-9-711d70635b48>\u001b[0m in \u001b[0;36m<module>\u001b[1;34m()\u001b[0m\n\u001b[0;32m      1\u001b[0m \u001b[1;33m\u001b[0m\u001b[0m\n\u001b[1;32m----> 2\u001b[1;33m \u001b[1;33m@\u001b[0m\u001b[0mvalidacao\u001b[0m\u001b[1;33m\u001b[0m\u001b[0m\n\u001b[0m\u001b[0;32m      3\u001b[0m \u001b[1;32mdef\u001b[0m \u001b[0mrequest\u001b[0m\u001b[1;33m(\u001b[0m\u001b[1;33m**\u001b[0m\u001b[0mkwargs\u001b[0m\u001b[1;33m)\u001b[0m\u001b[1;33m:\u001b[0m\u001b[1;33m\u001b[0m\u001b[0m\n\u001b[0;32m      4\u001b[0m     \u001b[1;32mreturn\u001b[0m \u001b[0mvalidacao\u001b[0m\u001b[1;33m(\u001b[0m\u001b[1;33m**\u001b[0m\u001b[0mkwargs\u001b[0m\u001b[1;33m)\u001b[0m\u001b[1;33m\u001b[0m\u001b[0m\n\u001b[0;32m      5\u001b[0m \u001b[1;33m\u001b[0m\u001b[0m\n",
      "\u001b[1;31mNameError\u001b[0m: name 'validacao' is not defined"
     ]
    }
   ],
   "source": [
    "def validacaodec(func)\n",
    "    def(wrapper)\n",
    "\n",
    "@validacaodec\n",
    "def request(**kwargs):\n",
    "    return validacao(**kwargs)\n",
    "\n",
    "\n",
    "\n",
    "def validacao(**kwargs):\n",
    "    #Validar nome\n",
    "    celular = kwargs.get(\"celular\").replace(\"-\",\"\")\n",
    "    erros =[]\n",
    "    \n",
    "    if not kwargs.get(\"nome\"):\n",
    "        erros.append(\"Nome errado\")\n",
    "    #Validar email\n",
    "    if '@' not in kwargs.get(\"email\"):\n",
    "        erros.append(\"Email errado\")\n",
    "    #Validar celular    \n",
    "    if len(celular) != 8 or not celular.isdigit():\n",
    "        erros.append(\"Celular errado\")\n",
    "    #Validar idade\n",
    "    if not len(kwargs.get(\"celular\"))!=2 or kwargs.get(\"idade\").isdigit():\n",
    "        erros.append(\"Idade errada\")\n",
    "        \n",
    "    if erros:\n",
    "        print(erros)\n",
    "        return False\n",
    "    else: \n",
    "        return True\n",
    "\n",
    "kwargs = {\"celular\": \"98888-18\", \"nome\": \"Joe due\" ,\"email\": \"joe@gmail.com\", \"idade\": \"1200\"}\n",
    "request(**kwargs)\n",
    "\n"
   ]
  },
  {
   "cell_type": "code",
   "execution_count": null,
   "metadata": {},
   "outputs": [],
   "source": []
  },
  {
   "cell_type": "code",
   "execution_count": 2,
   "metadata": {},
   "outputs": [
    {
     "name": "stdout",
     "output_type": "stream",
     "text": [
      "1\n",
      "2\n",
      "3\n",
      "name: Joe Due\n"
     ]
    }
   ],
   "source": [
    "# Argumentos arbitrários\n",
    "\n",
    "def some_method(*args, **kwargs):\n",
    "    for arg in args:\n",
    "        print(arg)\n",
    "    for key, value in kwargs.items():\n",
    "        print('{}: {}'.format(key, value))\n",
    "\n",
    "some_method(1, 2, 3, name='Joe Due')"
   ]
  },
  {
   "cell_type": "code",
   "execution_count": 4,
   "metadata": {},
   "outputs": [
    {
     "name": "stdout",
     "output_type": "stream",
     "text": [
      "__main__.User\n",
      "<__main__.User instance at 0x03A3E788>\n"
     ]
    }
   ],
   "source": [
    "#classes\n",
    "\n",
    "class User:\n",
    "    pass\n",
    "\n",
    "print(User)\n",
    "print(User())"
   ]
  },
  {
   "cell_type": "code",
   "execution_count": 7,
   "metadata": {},
   "outputs": [
    {
     "name": "stdout",
     "output_type": "stream",
     "text": [
      "Dity\n",
      "False\n"
     ]
    }
   ],
   "source": [
    "class User:\n",
    "    is_staff = False\n",
    "    \n",
    "    def __init__(self, name='Anonymous'):\n",
    "        self.name = name\n",
    "    \n",
    "    def is_authorized(self):\n",
    "        return self.is_staff\n",
    "    \n",
    "anonymous = User(\"Dity\")\n",
    "print(anonymous.name)\n",
    "print(anonymous.is_authorized())"
   ]
  },
  {
   "cell_type": "code",
   "execution_count": 1,
   "metadata": {},
   "outputs": [
    {
     "name": "stdout",
     "output_type": "stream",
     "text": [
      "Before calling example.\n",
      "Inside example function.\n",
      "After calling example.\n"
     ]
    }
   ],
   "source": [
    "# decorators = metodo que executa antes ou depois da funcao, e declara como @\n",
    "# see: PEP318\n",
    "from functools import wraps\n",
    "def decorator(func):\n",
    "    @wraps(func)\n",
    "    def wrapper(*args, **kwargs):\n",
    "        print(\"Before calling {}.\".format(func.__name__))\n",
    "        ret = func(*args, **kwargs)\n",
    "        print(\"After calling {}.\".format(func.__name__))\n",
    "        return ret\n",
    "    return wrapper\n",
    "\n",
    "@decorator\n",
    "def example():\n",
    "    print(\"Inside example function.\")\n",
    "\n",
    "example()"
   ]
  },
  {
   "cell_type": "code",
   "execution_count": null,
   "metadata": {},
   "outputs": [],
   "source": [
    "pyformat.info"
   ]
  }
 ],
 "metadata": {
  "kernelspec": {
   "display_name": "Python 2",
   "language": "python",
   "name": "python2"
  },
  "language_info": {
   "codemirror_mode": {
    "name": "ipython",
    "version": 2
   },
   "file_extension": ".py",
   "mimetype": "text/x-python",
   "name": "python",
   "nbconvert_exporter": "python",
   "pygments_lexer": "ipython2",
   "version": "2.7.14"
  }
 },
 "nbformat": 4,
 "nbformat_minor": 2
}
